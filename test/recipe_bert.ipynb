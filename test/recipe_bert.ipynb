{
 "cells": [
  {
   "cell_type": "code",
   "execution_count": 1,
   "metadata": {
    "ExecuteTime": {
     "end_time": "2020-04-13T09:34:02.556000Z",
     "start_time": "2020-04-13T09:34:01.019091Z"
    }
   },
   "outputs": [],
   "source": [
    "import string\n",
    "import numba as nb\n",
    "nb.config.NUMBA_NUM_THREADS = 10\n",
    "from numba import njit, prange\n",
    "\n",
    "import scipy.io\n",
    "\n",
    "import numpy as np\n",
    "import random\n",
    "from tqdm.notebook import tqdm\n",
    "from sklearn.feature_extraction.text import CountVectorizer\n",
    "from sklearn.feature_extraction.text import TfidfVectorizer\n",
    "\n",
    "from io import StringIO\n",
    "from scipy.spatial.distance import cosine\n",
    "from sklearn.metrics import f1_score\n",
    "from sklearn.metrics import classification_report\n",
    "\n",
    "import gensim\n",
    "import multiprocessing\n",
    "import gensim.models.keyedvectors as w2v\n",
    "from nltk.tokenize import word_tokenize\n",
    "\n",
    "import matplotlib.pyplot as plt \n",
    "%matplotlib inline"
   ]
  },
  {
   "cell_type": "code",
   "execution_count": 2,
   "metadata": {
    "ExecuteTime": {
     "end_time": "2020-04-13T09:34:25.701817Z",
     "start_time": "2020-04-13T09:34:20.031094Z"
    }
   },
   "outputs": [],
   "source": [
    "mat = scipy.io.loadmat('recipe2-emd_tr_te_split.mat', appendmat=False)"
   ]
  },
  {
   "cell_type": "code",
   "execution_count": 4,
   "metadata": {
    "ExecuteTime": {
     "end_time": "2020-04-13T09:34:49.247718Z",
     "start_time": "2020-04-13T09:34:49.239357Z"
    }
   },
   "outputs": [],
   "source": [
    "mat_tr = mat['TR']\n",
    "\n",
    "mat_te = mat['TE']\n",
    "\n",
    "mat_words = mat['the_words']\n",
    "\n",
    "mat_bow = mat['BOW_X']\n",
    "\n",
    "mat_x = mat['X']\n",
    "\n",
    "mat_y = mat['Y']\n",
    "\n",
    "mat_y = mat_y-1"
   ]
  },
  {
   "cell_type": "code",
   "execution_count": 5,
   "metadata": {
    "ExecuteTime": {
     "end_time": "2020-04-13T09:35:07.375541Z",
     "start_time": "2020-04-13T09:35:07.175512Z"
    }
   },
   "outputs": [
    {
     "data": {
      "application/vnd.jupyter.widget-view+json": {
       "model_id": "156680a2fc8c4dd599928c44f1b4a5fb",
       "version_major": 2,
       "version_minor": 0
      },
      "text/plain": [
       "HBox(children=(IntProgress(value=0, max=4375), HTML(value='')))"
      ]
     },
     "metadata": {},
     "output_type": "display_data"
    },
    {
     "name": "stdout",
     "output_type": "stream",
     "text": [
      "\n"
     ]
    }
   ],
   "source": [
    "docs = []\n",
    "for i in tqdm(range(len(mat_words[0]))):\n",
    "#     print(i)\n",
    "    sent = []\n",
    "    try:\n",
    "        for w in mat_words[0][i][0]:\n",
    "            sent.append(w[0])\n",
    "        docs.append(sent)\n",
    "    except IndexError:\n",
    "        continue"
   ]
  },
  {
   "cell_type": "code",
   "execution_count": 6,
   "metadata": {
    "ExecuteTime": {
     "end_time": "2020-04-13T09:35:14.117620Z",
     "start_time": "2020-04-13T09:35:14.066506Z"
    }
   },
   "outputs": [],
   "source": [
    "def long_words(text):\n",
    "    text = [t for t in text if len(t) >= 2]\n",
    "    return text\n",
    "\n",
    "docs = [long_words(sen) for sen in docs]"
   ]
  },
  {
   "cell_type": "code",
   "execution_count": 8,
   "metadata": {
    "ExecuteTime": {
     "end_time": "2020-04-13T09:35:30.139878Z",
     "start_time": "2020-04-13T09:35:30.099207Z"
    }
   },
   "outputs": [],
   "source": [
    "for i in range(len(mat_tr)):\n",
    "    random.Random(49).shuffle(mat_tr[i])\n",
    "    \n",
    "for i in range(len(mat_te)):\n",
    "    random.Random(49).shuffle(mat_te[i])\n"
   ]
  },
  {
   "cell_type": "code",
   "execution_count": 9,
   "metadata": {
    "ExecuteTime": {
     "end_time": "2020-04-13T09:36:25.259455Z",
     "start_time": "2020-04-13T09:36:25.096483Z"
    }
   },
   "outputs": [],
   "source": [
    "data_full = [' '.join(t) for t in docs]\n",
    "\n",
    "X_train = []\n",
    "y_train = []\n",
    "X_test = []\n",
    "y_test = []\n",
    "for kfold in range(len(mat_tr)): \n",
    "    X_train.append([ data_full[i-1] for i in mat_tr[kfold] ])\n",
    "    y_train.append([ mat_y[0][j-1] for j in mat_tr[kfold] ])\n",
    "    \n",
    "for kfold in range(len(mat_te)):\n",
    "    X_test.append([ data_full[i-1] for i in mat_te[kfold] ])\n",
    "    y_test.append([ mat_y[0][j-1] for j in mat_te[kfold] ])\n",
    "    \n",
    "classes = len(np.unique(y_train))"
   ]
  },
  {
   "cell_type": "code",
   "execution_count": 10,
   "metadata": {
    "ExecuteTime": {
     "end_time": "2020-04-13T09:36:47.203038Z",
     "start_time": "2020-04-13T09:36:38.992309Z"
    }
   },
   "outputs": [
    {
     "data": {
      "text/plain": [
       "BertModel(\n",
       "  (embeddings): BertEmbeddings(\n",
       "    (word_embeddings): Embedding(30522, 768, padding_idx=0)\n",
       "    (position_embeddings): Embedding(512, 768)\n",
       "    (token_type_embeddings): Embedding(2, 768)\n",
       "    (LayerNorm): BertLayerNorm()\n",
       "    (dropout): Dropout(p=0.1, inplace=False)\n",
       "  )\n",
       "  (encoder): BertEncoder(\n",
       "    (layer): ModuleList(\n",
       "      (0): BertLayer(\n",
       "        (attention): BertAttention(\n",
       "          (self): BertSelfAttention(\n",
       "            (query): Linear(in_features=768, out_features=768, bias=True)\n",
       "            (key): Linear(in_features=768, out_features=768, bias=True)\n",
       "            (value): Linear(in_features=768, out_features=768, bias=True)\n",
       "            (dropout): Dropout(p=0.1, inplace=False)\n",
       "          )\n",
       "          (output): BertSelfOutput(\n",
       "            (dense): Linear(in_features=768, out_features=768, bias=True)\n",
       "            (LayerNorm): BertLayerNorm()\n",
       "            (dropout): Dropout(p=0.1, inplace=False)\n",
       "          )\n",
       "        )\n",
       "        (intermediate): BertIntermediate(\n",
       "          (dense): Linear(in_features=768, out_features=3072, bias=True)\n",
       "        )\n",
       "        (output): BertOutput(\n",
       "          (dense): Linear(in_features=3072, out_features=768, bias=True)\n",
       "          (LayerNorm): BertLayerNorm()\n",
       "          (dropout): Dropout(p=0.1, inplace=False)\n",
       "        )\n",
       "      )\n",
       "      (1): BertLayer(\n",
       "        (attention): BertAttention(\n",
       "          (self): BertSelfAttention(\n",
       "            (query): Linear(in_features=768, out_features=768, bias=True)\n",
       "            (key): Linear(in_features=768, out_features=768, bias=True)\n",
       "            (value): Linear(in_features=768, out_features=768, bias=True)\n",
       "            (dropout): Dropout(p=0.1, inplace=False)\n",
       "          )\n",
       "          (output): BertSelfOutput(\n",
       "            (dense): Linear(in_features=768, out_features=768, bias=True)\n",
       "            (LayerNorm): BertLayerNorm()\n",
       "            (dropout): Dropout(p=0.1, inplace=False)\n",
       "          )\n",
       "        )\n",
       "        (intermediate): BertIntermediate(\n",
       "          (dense): Linear(in_features=768, out_features=3072, bias=True)\n",
       "        )\n",
       "        (output): BertOutput(\n",
       "          (dense): Linear(in_features=3072, out_features=768, bias=True)\n",
       "          (LayerNorm): BertLayerNorm()\n",
       "          (dropout): Dropout(p=0.1, inplace=False)\n",
       "        )\n",
       "      )\n",
       "      (2): BertLayer(\n",
       "        (attention): BertAttention(\n",
       "          (self): BertSelfAttention(\n",
       "            (query): Linear(in_features=768, out_features=768, bias=True)\n",
       "            (key): Linear(in_features=768, out_features=768, bias=True)\n",
       "            (value): Linear(in_features=768, out_features=768, bias=True)\n",
       "            (dropout): Dropout(p=0.1, inplace=False)\n",
       "          )\n",
       "          (output): BertSelfOutput(\n",
       "            (dense): Linear(in_features=768, out_features=768, bias=True)\n",
       "            (LayerNorm): BertLayerNorm()\n",
       "            (dropout): Dropout(p=0.1, inplace=False)\n",
       "          )\n",
       "        )\n",
       "        (intermediate): BertIntermediate(\n",
       "          (dense): Linear(in_features=768, out_features=3072, bias=True)\n",
       "        )\n",
       "        (output): BertOutput(\n",
       "          (dense): Linear(in_features=3072, out_features=768, bias=True)\n",
       "          (LayerNorm): BertLayerNorm()\n",
       "          (dropout): Dropout(p=0.1, inplace=False)\n",
       "        )\n",
       "      )\n",
       "      (3): BertLayer(\n",
       "        (attention): BertAttention(\n",
       "          (self): BertSelfAttention(\n",
       "            (query): Linear(in_features=768, out_features=768, bias=True)\n",
       "            (key): Linear(in_features=768, out_features=768, bias=True)\n",
       "            (value): Linear(in_features=768, out_features=768, bias=True)\n",
       "            (dropout): Dropout(p=0.1, inplace=False)\n",
       "          )\n",
       "          (output): BertSelfOutput(\n",
       "            (dense): Linear(in_features=768, out_features=768, bias=True)\n",
       "            (LayerNorm): BertLayerNorm()\n",
       "            (dropout): Dropout(p=0.1, inplace=False)\n",
       "          )\n",
       "        )\n",
       "        (intermediate): BertIntermediate(\n",
       "          (dense): Linear(in_features=768, out_features=3072, bias=True)\n",
       "        )\n",
       "        (output): BertOutput(\n",
       "          (dense): Linear(in_features=3072, out_features=768, bias=True)\n",
       "          (LayerNorm): BertLayerNorm()\n",
       "          (dropout): Dropout(p=0.1, inplace=False)\n",
       "        )\n",
       "      )\n",
       "      (4): BertLayer(\n",
       "        (attention): BertAttention(\n",
       "          (self): BertSelfAttention(\n",
       "            (query): Linear(in_features=768, out_features=768, bias=True)\n",
       "            (key): Linear(in_features=768, out_features=768, bias=True)\n",
       "            (value): Linear(in_features=768, out_features=768, bias=True)\n",
       "            (dropout): Dropout(p=0.1, inplace=False)\n",
       "          )\n",
       "          (output): BertSelfOutput(\n",
       "            (dense): Linear(in_features=768, out_features=768, bias=True)\n",
       "            (LayerNorm): BertLayerNorm()\n",
       "            (dropout): Dropout(p=0.1, inplace=False)\n",
       "          )\n",
       "        )\n",
       "        (intermediate): BertIntermediate(\n",
       "          (dense): Linear(in_features=768, out_features=3072, bias=True)\n",
       "        )\n",
       "        (output): BertOutput(\n",
       "          (dense): Linear(in_features=3072, out_features=768, bias=True)\n",
       "          (LayerNorm): BertLayerNorm()\n",
       "          (dropout): Dropout(p=0.1, inplace=False)\n",
       "        )\n",
       "      )\n",
       "      (5): BertLayer(\n",
       "        (attention): BertAttention(\n",
       "          (self): BertSelfAttention(\n",
       "            (query): Linear(in_features=768, out_features=768, bias=True)\n",
       "            (key): Linear(in_features=768, out_features=768, bias=True)\n",
       "            (value): Linear(in_features=768, out_features=768, bias=True)\n",
       "            (dropout): Dropout(p=0.1, inplace=False)\n",
       "          )\n",
       "          (output): BertSelfOutput(\n",
       "            (dense): Linear(in_features=768, out_features=768, bias=True)\n",
       "            (LayerNorm): BertLayerNorm()\n",
       "            (dropout): Dropout(p=0.1, inplace=False)\n",
       "          )\n",
       "        )\n",
       "        (intermediate): BertIntermediate(\n",
       "          (dense): Linear(in_features=768, out_features=3072, bias=True)\n",
       "        )\n",
       "        (output): BertOutput(\n",
       "          (dense): Linear(in_features=3072, out_features=768, bias=True)\n",
       "          (LayerNorm): BertLayerNorm()\n",
       "          (dropout): Dropout(p=0.1, inplace=False)\n",
       "        )\n",
       "      )\n",
       "      (6): BertLayer(\n",
       "        (attention): BertAttention(\n",
       "          (self): BertSelfAttention(\n",
       "            (query): Linear(in_features=768, out_features=768, bias=True)\n",
       "            (key): Linear(in_features=768, out_features=768, bias=True)\n",
       "            (value): Linear(in_features=768, out_features=768, bias=True)\n",
       "            (dropout): Dropout(p=0.1, inplace=False)\n",
       "          )\n",
       "          (output): BertSelfOutput(\n",
       "            (dense): Linear(in_features=768, out_features=768, bias=True)\n",
       "            (LayerNorm): BertLayerNorm()\n",
       "            (dropout): Dropout(p=0.1, inplace=False)\n",
       "          )\n",
       "        )\n",
       "        (intermediate): BertIntermediate(\n",
       "          (dense): Linear(in_features=768, out_features=3072, bias=True)\n",
       "        )\n",
       "        (output): BertOutput(\n",
       "          (dense): Linear(in_features=3072, out_features=768, bias=True)\n",
       "          (LayerNorm): BertLayerNorm()\n",
       "          (dropout): Dropout(p=0.1, inplace=False)\n",
       "        )\n",
       "      )\n",
       "      (7): BertLayer(\n",
       "        (attention): BertAttention(\n",
       "          (self): BertSelfAttention(\n",
       "            (query): Linear(in_features=768, out_features=768, bias=True)\n",
       "            (key): Linear(in_features=768, out_features=768, bias=True)\n",
       "            (value): Linear(in_features=768, out_features=768, bias=True)\n",
       "            (dropout): Dropout(p=0.1, inplace=False)\n",
       "          )\n",
       "          (output): BertSelfOutput(\n",
       "            (dense): Linear(in_features=768, out_features=768, bias=True)\n",
       "            (LayerNorm): BertLayerNorm()\n",
       "            (dropout): Dropout(p=0.1, inplace=False)\n",
       "          )\n",
       "        )\n",
       "        (intermediate): BertIntermediate(\n",
       "          (dense): Linear(in_features=768, out_features=3072, bias=True)\n",
       "        )\n",
       "        (output): BertOutput(\n",
       "          (dense): Linear(in_features=3072, out_features=768, bias=True)\n",
       "          (LayerNorm): BertLayerNorm()\n",
       "          (dropout): Dropout(p=0.1, inplace=False)\n",
       "        )\n",
       "      )\n",
       "      (8): BertLayer(\n",
       "        (attention): BertAttention(\n",
       "          (self): BertSelfAttention(\n",
       "            (query): Linear(in_features=768, out_features=768, bias=True)\n",
       "            (key): Linear(in_features=768, out_features=768, bias=True)\n",
       "            (value): Linear(in_features=768, out_features=768, bias=True)\n",
       "            (dropout): Dropout(p=0.1, inplace=False)\n",
       "          )\n",
       "          (output): BertSelfOutput(\n",
       "            (dense): Linear(in_features=768, out_features=768, bias=True)\n",
       "            (LayerNorm): BertLayerNorm()\n",
       "            (dropout): Dropout(p=0.1, inplace=False)\n",
       "          )\n",
       "        )\n",
       "        (intermediate): BertIntermediate(\n",
       "          (dense): Linear(in_features=768, out_features=3072, bias=True)\n",
       "        )\n",
       "        (output): BertOutput(\n",
       "          (dense): Linear(in_features=3072, out_features=768, bias=True)\n",
       "          (LayerNorm): BertLayerNorm()\n",
       "          (dropout): Dropout(p=0.1, inplace=False)\n",
       "        )\n",
       "      )\n",
       "      (9): BertLayer(\n",
       "        (attention): BertAttention(\n",
       "          (self): BertSelfAttention(\n",
       "            (query): Linear(in_features=768, out_features=768, bias=True)\n",
       "            (key): Linear(in_features=768, out_features=768, bias=True)\n",
       "            (value): Linear(in_features=768, out_features=768, bias=True)\n",
       "            (dropout): Dropout(p=0.1, inplace=False)\n",
       "          )\n",
       "          (output): BertSelfOutput(\n",
       "            (dense): Linear(in_features=768, out_features=768, bias=True)\n",
       "            (LayerNorm): BertLayerNorm()\n",
       "            (dropout): Dropout(p=0.1, inplace=False)\n",
       "          )\n",
       "        )\n",
       "        (intermediate): BertIntermediate(\n",
       "          (dense): Linear(in_features=768, out_features=3072, bias=True)\n",
       "        )\n",
       "        (output): BertOutput(\n",
       "          (dense): Linear(in_features=3072, out_features=768, bias=True)\n",
       "          (LayerNorm): BertLayerNorm()\n",
       "          (dropout): Dropout(p=0.1, inplace=False)\n",
       "        )\n",
       "      )\n",
       "      (10): BertLayer(\n",
       "        (attention): BertAttention(\n",
       "          (self): BertSelfAttention(\n",
       "            (query): Linear(in_features=768, out_features=768, bias=True)\n",
       "            (key): Linear(in_features=768, out_features=768, bias=True)\n",
       "            (value): Linear(in_features=768, out_features=768, bias=True)\n",
       "            (dropout): Dropout(p=0.1, inplace=False)\n",
       "          )\n",
       "          (output): BertSelfOutput(\n",
       "            (dense): Linear(in_features=768, out_features=768, bias=True)\n",
       "            (LayerNorm): BertLayerNorm()\n",
       "            (dropout): Dropout(p=0.1, inplace=False)\n",
       "          )\n",
       "        )\n",
       "        (intermediate): BertIntermediate(\n",
       "          (dense): Linear(in_features=768, out_features=3072, bias=True)\n",
       "        )\n",
       "        (output): BertOutput(\n",
       "          (dense): Linear(in_features=3072, out_features=768, bias=True)\n",
       "          (LayerNorm): BertLayerNorm()\n",
       "          (dropout): Dropout(p=0.1, inplace=False)\n",
       "        )\n",
       "      )\n",
       "      (11): BertLayer(\n",
       "        (attention): BertAttention(\n",
       "          (self): BertSelfAttention(\n",
       "            (query): Linear(in_features=768, out_features=768, bias=True)\n",
       "            (key): Linear(in_features=768, out_features=768, bias=True)\n",
       "            (value): Linear(in_features=768, out_features=768, bias=True)\n",
       "            (dropout): Dropout(p=0.1, inplace=False)\n",
       "          )\n",
       "          (output): BertSelfOutput(\n",
       "            (dense): Linear(in_features=768, out_features=768, bias=True)\n",
       "            (LayerNorm): BertLayerNorm()\n",
       "            (dropout): Dropout(p=0.1, inplace=False)\n",
       "          )\n",
       "        )\n",
       "        (intermediate): BertIntermediate(\n",
       "          (dense): Linear(in_features=768, out_features=3072, bias=True)\n",
       "        )\n",
       "        (output): BertOutput(\n",
       "          (dense): Linear(in_features=3072, out_features=768, bias=True)\n",
       "          (LayerNorm): BertLayerNorm()\n",
       "          (dropout): Dropout(p=0.1, inplace=False)\n",
       "        )\n",
       "      )\n",
       "    )\n",
       "  )\n",
       "  (pooler): BertPooler(\n",
       "    (dense): Linear(in_features=768, out_features=768, bias=True)\n",
       "    (activation): Tanh()\n",
       "  )\n",
       ")"
      ]
     },
     "execution_count": 10,
     "metadata": {},
     "output_type": "execute_result"
    }
   ],
   "source": [
    "import torch\n",
    "from pytorch_pretrained_bert import BertTokenizer, BertModel, BertForMaskedLM\n",
    "\n",
    "# OPTIONAL: if you want to have more information on what's happening, activate the logger as follows\n",
    "import logging\n",
    "#logging.basicConfig(level=logging.INFO)\n",
    "\n",
    "# Load pre-trained model (weights)\n",
    "model = BertModel.from_pretrained('bert-base-uncased')\n",
    "\n",
    "# Load pre-trained model tokenizer (vocabulary)\n",
    "tokenizer = BertTokenizer.from_pretrained('bert-base-uncased')\n",
    "\n",
    "# Put the model in \"evaluation\" mode, meaning feed-forward operation.\n",
    "model.eval()"
   ]
  },
  {
   "cell_type": "code",
   "execution_count": 11,
   "metadata": {
    "ExecuteTime": {
     "end_time": "2020-04-13T09:37:03.214821Z",
     "start_time": "2020-04-13T09:37:03.200613Z"
    }
   },
   "outputs": [],
   "source": [
    "def word_sent_emb(corpus):\n",
    "\n",
    "    sentence_embedding = []\n",
    "    sent_vecs_sum = []\n",
    "    word_emb = []\n",
    "    new_corpus = []\n",
    "\n",
    "    for text in tqdm(corpus):\n",
    "\n",
    "        # Add the special tokens.\n",
    "        marked_text = \"[CLS] \" + text + \" [SEP]\"\n",
    "        \n",
    "        # Split the sentence into tokens.\n",
    "        tokenized_text = tokenizer.tokenize(marked_text)\n",
    "\n",
    "        if len(tokenized_text) >= 512:\n",
    "            end = int(len(tokenized_text)-256)\n",
    "            del tokenized_text[256:end]\n",
    "\n",
    "        # Map the token strings to their vocabulary indeces.\n",
    "        indexed_tokens = tokenizer.convert_tokens_to_ids(tokenized_text)\n",
    "        \n",
    "        # Mark each of the 22 tokens as belonging to sentence \"1\".\n",
    "        segments_ids = [1] * len(indexed_tokens)\n",
    "        \n",
    "        # Convert inputs to PyTorch tensors\n",
    "        tokens_tensor = torch.tensor([indexed_tokens])\n",
    "        segments_tensors = torch.tensor([segments_ids])\n",
    "        \n",
    "        # Predict hidden states features for each layer\n",
    "        with torch.no_grad():\n",
    "            encoded_layers, _ = model(tokens_tensor, segments_tensors)\n",
    "        \n",
    "        # Concatenate the tensors for all layers. We use `stack` here to\n",
    "        # create a new dimension in the tensor.\n",
    "        token_embeddings = torch.stack(encoded_layers, dim=0)\n",
    "\n",
    "        # Remove dimension 1, the \"batches\".\n",
    "        token_embeddings = torch.squeeze(token_embeddings, dim=1)\n",
    "\n",
    "        # Swap dimensions 0 and 1.\n",
    "        token_embeddings = token_embeddings.permute(1,0,2)\n",
    "\n",
    "            # Stores the token vectors, with shape [30 x 768]\n",
    "        token_vecs_sum = []\n",
    "\n",
    "        # `token_embeddings` is a [30 x 12 x 768] tensor.\n",
    "        # For each token in the sentence...\n",
    "        for token in token_embeddings:\n",
    "\n",
    "            # `token` is a [12 x 768] tensor\n",
    "            # Sum the vectors from the last four layers.\n",
    "            sum_vec = torch.sum(token[-4:], dim=0)\n",
    "            # Use `sum_vec` to represent `token`.\n",
    "            token_vecs_sum.append(sum_vec)\n",
    "    #     sent_vecs_sum.append(token_vecs_sum)\n",
    "\n",
    "        d = {} \n",
    "        words = {}\n",
    "        separator = 1\n",
    "        for t in range(len(tokenized_text)):\n",
    "            d[t] = token_vecs_sum[t]\n",
    "            words[t] = tokenized_text[t]\n",
    "            if '##' in tokenized_text[t]:\n",
    "                d[t-separator] = (token_vecs_sum[t] + d[t-separator])/2\n",
    "                words[t-separator] = words[t-separator] + tokenized_text[t]\n",
    "                words[t-separator] = ''.join(filter(str.isalpha,  words[t-separator]))\n",
    "                del d[t]\n",
    "                del words[t]\n",
    "                separator += 1\n",
    "            else:\n",
    "                separator = 1   \n",
    "        word_emb.append(list(d.values())[1:-1])      # excluding CLS and SEP\n",
    "        new_corpus.append(list(words.values())[1:-1])\n",
    "\n",
    "#     #    ****** Version 1 of extracting sentence embedding, \n",
    "#     #     `encoded_layers` has shape [12 x 1 x 22 x 768]\n",
    "#     #     `token_vecs` is a tensor with shape [22 x 768]\n",
    "#         token_vecs = encoded_layers[11][0]    \n",
    "#     #     Calculate the average of all token vectors.\n",
    "#         sentence_embedding.append(torch.mean(token_vecs, dim=0))\n",
    "\n",
    "    # #    ****** Version 2\n",
    "    #     token_vecs = encoded_layers[0][:,0,:]  # First layer is CLS     [all sentences, only the first token CLS, all layers]\n",
    "    #     sentence_embedding.append(token_vecs)\n",
    "    \n",
    "    return [word_emb, new_corpus]"
   ]
  },
  {
   "cell_type": "code",
   "execution_count": 12,
   "metadata": {
    "ExecuteTime": {
     "end_time": "2020-04-13T09:58:05.379081Z",
     "start_time": "2020-04-13T09:37:13.520340Z"
    }
   },
   "outputs": [
    {
     "data": {
      "application/vnd.jupyter.widget-view+json": {
       "model_id": "1276e0f4c0e542a99bd75babd3800d98",
       "version_major": 2,
       "version_minor": 0
      },
      "text/plain": [
       "HBox(children=(IntProgress(value=0, max=3059), HTML(value='')))"
      ]
     },
     "metadata": {},
     "output_type": "display_data"
    },
    {
     "name": "stdout",
     "output_type": "stream",
     "text": [
      "\n"
     ]
    },
    {
     "data": {
      "application/vnd.jupyter.widget-view+json": {
       "model_id": "fc838281e3854f1a814a3d05412e10a1",
       "version_major": 2,
       "version_minor": 0
      },
      "text/plain": [
       "HBox(children=(IntProgress(value=0, max=1311), HTML(value='')))"
      ]
     },
     "metadata": {},
     "output_type": "display_data"
    },
    {
     "name": "stdout",
     "output_type": "stream",
     "text": [
      "\n"
     ]
    }
   ],
   "source": [
    "bert_tr = [ word_sent_emb(corpx) for corpx in X_train[:1]]\n",
    "bert_ts = [ word_sent_emb(corpy) for corpy in X_test[:1]]"
   ]
  },
  {
   "cell_type": "code",
   "execution_count": 13,
   "metadata": {
    "ExecuteTime": {
     "end_time": "2020-04-13T09:59:22.906465Z",
     "start_time": "2020-04-13T09:59:22.902191Z"
    }
   },
   "outputs": [],
   "source": [
    "X_train_bert = bert_tr[0][1]\n",
    "X_test_bert = bert_ts[0][1]"
   ]
  },
  {
   "cell_type": "code",
   "execution_count": 14,
   "metadata": {
    "ExecuteTime": {
     "end_time": "2020-04-13T09:59:31.171731Z",
     "start_time": "2020-04-13T09:59:31.165571Z"
    }
   },
   "outputs": [],
   "source": [
    "bert_trB = bert_tr[0][0]\n",
    "bert_tsB = bert_ts[0][0]"
   ]
  },
  {
   "cell_type": "code",
   "execution_count": 15,
   "metadata": {
    "ExecuteTime": {
     "end_time": "2020-04-13T09:59:43.451303Z",
     "start_time": "2020-04-13T09:59:42.234661Z"
    }
   },
   "outputs": [],
   "source": [
    "# COnvert every tensor (=word=vector) to numpy\n",
    "bert_trB = [[x.numpy().astype(np.float32) for x in y] for y in bert_trB]\n",
    "bert_tsB = [[x.numpy().astype(np.float32) for x in y] for y in bert_tsB]"
   ]
  },
  {
   "cell_type": "code",
   "execution_count": 17,
   "metadata": {
    "ExecuteTime": {
     "end_time": "2020-04-13T09:59:59.213173Z",
     "start_time": "2020-04-13T09:59:59.201924Z"
    }
   },
   "outputs": [],
   "source": [
    "def weights_tfidf(doci, indexed):\n",
    "    \n",
    "    w_tfidf = []\n",
    "    for i in range(len(doci)):\n",
    "        doc = doci[i]\n",
    "        w = np.zeros(len(doc))\n",
    "        for j in range(len(doc)):\n",
    "            w[j] = indexed[i].get(doc[j])\n",
    "        w_tfidf.append(w)\n",
    "        \n",
    "    return w_tfidf"
   ]
  },
  {
   "cell_type": "code",
   "execution_count": 18,
   "metadata": {
    "ExecuteTime": {
     "end_time": "2020-04-13T10:00:51.887611Z",
     "start_time": "2020-04-13T10:00:51.202327Z"
    }
   },
   "outputs": [],
   "source": [
    "train_fullB = [' '.join(t) for t in X_train_bert]\n",
    "test_fullB = [' '.join(t) for t in X_test_bert]\n",
    "\n",
    "\n",
    "tfidf_vec = TfidfVectorizer()\n",
    "transformed_trainB = tfidf_vec.fit_transform(raw_documents=train_fullB)\n",
    "index_value_trainB = {i[1]:i[0] for i in tfidf_vec.vocabulary_.items()}\n",
    "\n",
    "tfidf_vecT = TfidfVectorizer()\n",
    "transformed_testB = tfidf_vecT.fit_transform(raw_documents=test_fullB)\n",
    "index_value_testB = {i[1]:i[0] for i in tfidf_vecT.vocabulary_.items()}\n",
    "\n",
    "\n",
    "fully_indexed_trainB = []\n",
    "for row in transformed_trainB:\n",
    "    fully_indexed_trainB.append({index_value_trainB[column]:value for (column,value) in zip(row.indices,row.data)})\n",
    "\n",
    "fully_indexed_testB = []\n",
    "for rowt in transformed_testB:\n",
    "    fully_indexed_testB.append({index_value_testB[columnT]:valueT for (columnT,valueT) in zip(rowt.indices,rowt.data)})\n",
    "    \n",
    "    \n",
    "w_tfidfTrainB = weights_tfidf(X_train_bert, fully_indexed_trainB)\n",
    "w_tfidfTestB = weights_tfidf(X_test_bert, fully_indexed_testB)\n",
    "\n",
    "\n",
    "wtrain_idfB = [w/max(w) for w in w_tfidfTrainB]\n",
    "wtest_idfB = [z/max(z) for z in w_tfidfTestB]"
   ]
  },
  {
   "cell_type": "code",
   "execution_count": 19,
   "metadata": {
    "ExecuteTime": {
     "end_time": "2020-04-13T10:00:58.818947Z",
     "start_time": "2020-04-13T10:00:58.808853Z"
    }
   },
   "outputs": [],
   "source": [
    "# classes = len(np.unique(y_train[0]))\n",
    "@nb.njit()\n",
    "def weight_inverse(k, sim):\n",
    "    result = np.zeros(k)\n",
    "    summ = 0.0\n",
    "    for i in range(k):\n",
    "        result[i] += 1.0 / (sim[i]**2+1)\n",
    "        summ += result[i]\n",
    "    result = 1 - result/summ\n",
    "    return result\n",
    "\n",
    "# @nb.njit(parallel=True)\n",
    "def knn(sim, k, y):\n",
    "    ordering = sim.argsort()[::-1]    # sort ind of similarities from max to min\n",
    "    k_near_dists = sim[ordering]      # choose k largest similarities\n",
    "    votes = np.zeros(classes)\n",
    "    wts = weight_inverse(k, k_near_dists)   # get weight for similarities\n",
    "    for j in nb.prange(k):\n",
    "        idx = ordering[j]\n",
    "        pred_class = np.int(y[idx])     # take labels of max to min\n",
    "        votes[pred_class] += wts[j] * 1.0\n",
    "    return np.argmax(votes)"
   ]
  },
  {
   "cell_type": "code",
   "execution_count": 20,
   "metadata": {
    "ExecuteTime": {
     "end_time": "2020-04-13T10:01:06.223519Z",
     "start_time": "2020-04-13T10:01:06.214799Z"
    }
   },
   "outputs": [],
   "source": [
    "@njit(inline='always')\n",
    "def cosine_similarity_numba(u, v):\n",
    "#     assert(u.shape[0] == v.shape[0])\n",
    "    uv = 0\n",
    "    uu = 0\n",
    "    vv = 0\n",
    "    for i in range(u.shape[0]):\n",
    "        uv += u[i]*v[i]\n",
    "        uu += u[i]*u[i]\n",
    "        vv += v[i]*v[i]\n",
    "    cos_theta = 1\n",
    "    if uu!=0 and vv!=0:\n",
    "        cos_theta = uv/np.sqrt(uu*vv)\n",
    "        \n",
    "    return cos_theta\n",
    "\n",
    "@nb.njit(parallel=True)\n",
    "def calc_dis(word_vectors_ts, word_vectors_tr):\n",
    "    word_matrix = np.zeros((len(word_vectors_ts), len(word_vectors_tr)))\n",
    "    \n",
    "    for vec1 in nb.prange(len(word_vectors_ts)):\n",
    "        for vec2 in range(len(word_vectors_tr)):\n",
    "            word_matrix[vec1,vec2] = cosine_similarity_numba(word_vectors_ts[vec1], word_vectors_tr[vec2])\n",
    "            \n",
    "    return word_matrix"
   ]
  },
  {
   "cell_type": "code",
   "execution_count": 57,
   "metadata": {
    "ExecuteTime": {
     "end_time": "2020-04-16T12:44:57.896075Z",
     "start_time": "2020-04-16T12:44:57.557378Z"
    }
   },
   "outputs": [],
   "source": [
    "from numba import jit, njit\n",
    "from numba.types import float64, int64\n",
    "import numpy as np\n",
    "\n",
    "@jit(float64[:](float64[:], int64, float64[:]),nopython=True)\n",
    "def rnd1(x, decimals, out):\n",
    "    return np.round_(x, decimals, out)"
   ]
  },
  {
   "cell_type": "code",
   "execution_count": 60,
   "metadata": {
    "ExecuteTime": {
     "end_time": "2020-04-16T12:49:05.197263Z",
     "start_time": "2020-04-16T12:49:05.176342Z"
    }
   },
   "outputs": [],
   "source": [
    "@nb.njit()\n",
    "def cross_similarity_new(similarity_matrix, col_weights, row_weights, similarity_threshold, P,neg_ts,neg_tr,idx_ts,idx_tr):\n",
    "    n_rows = len(row_weights)        # test\n",
    "    n_cols = len(col_weights)        # train\n",
    "    assert(similarity_matrix.shape == (n_rows,n_cols))\n",
    "    complete_connection = 0\n",
    "    true_connection = 0\n",
    "\n",
    "    for i in nb.prange(n_rows):\n",
    "        complete_connection += (row_weights[i]*col_weights[idx_ts[i]])*(similarity_matrix[i,idx_ts[i]])*neg_ts[i]\n",
    "        for j in range(n_cols):\n",
    "            if i == 0:\n",
    "                complete_connection += (row_weights[idx_tr[j]]*col_weights[j])*(similarity_matrix[idx_tr[j],j])*neg_tr[j]\n",
    "\n",
    "            if similarity_matrix[i,j] >= similarity_threshold:\n",
    "                true_connection += (row_weights[i]*col_weights[j])*(P + similarity_matrix[i,j])\n",
    "\n",
    "    if complete_connection > 0:\n",
    "        connection_value = true_connection/complete_connection\n",
    "    else:\n",
    "        connection_value = 0\n",
    "    \n",
    "    return connection_value\n",
    "    \n",
    "    \n",
    "@nb.njit() \n",
    "def sim_new(M, w_tr, w_ts, eps, P, sigm):\n",
    "    \n",
    "    max_ts = np.array([np.amax(M[m,:]) for m in range(M.shape[0])])                  # test\n",
    "    # max value from each word (index) in sent1 to words (values in list) in sent2\n",
    "    indmax_ts = [np.where(M[m,:] == max_ts[m])[0][0] for m in range(M.shape[0])] \n",
    "    max_tr = np.array([np.amax(M[:,n]) for n in range(M.shape[1])])                  # train\n",
    "    indmax_tr = [np.where(M[:,n] == max_tr[n])[0][0] for n in range(M.shape[1])]\n",
    "    \n",
    "    # find which max similarities are out of one sigma\n",
    "    find_ts = (max_ts - np.mean(max_ts) + sigm*np.std(max_ts))                     # for test\n",
    "    find_tr = (max_tr - np.mean(max_tr) + sigm*np.std(max_tr))                     # for train\n",
    "    \n",
    "    # maximum similarity of words in sent1 is significant in regards to words in sent2\n",
    "    y1=np.empty_like(find_ts)\n",
    "    y2=np.empty_like(find_tr)\n",
    "    neg_ts = (rnd1(find_ts, 10, y1) >= 0)*1  \n",
    "    neg_tr = (rnd1(find_tr, 10, y2) >= 0)*1  \n",
    "                \n",
    "        \n",
    "    relations = []\n",
    "    for i in range(len(indmax_ts)):\n",
    "        relations.append((i,indmax_ts[i]))\n",
    "\n",
    "    for j in range(len(indmax_tr)):\n",
    "        if (indmax_tr[j],j) in relations:       \n",
    "            neg_tr[j] = 0                # for train\n",
    "    \n",
    "    score = cross_similarity_new(M, w_tr, w_ts, eps, P, neg_ts, neg_tr, indmax_ts, indmax_tr)\n",
    "\n",
    "    return score\n",
    "\n",
    "\n",
    "def result_new(m, n, k, eps, P, bert_embTr, bert_embTs, w_tr, w_ts, y_train, y_test, sigm):\n",
    "    y_predict = []\n",
    "    sims = np.zeros(m*n)\n",
    "    for i in tqdm(range(m)):  # compare one test doc with all training docs to find the closest\n",
    "        for j in range(n):\n",
    "            M = calc_dis(bert_embTs[i], bert_embTr[j])\n",
    "            sims[(i*n)+j] = sim_new(M, w_tr[j], w_ts[i], eps, P, sigm)\n",
    "        y_class = knn(sims[i*n:(i+1)*n], k, y_train)\n",
    "        y_predict.append(y_class)\n",
    "\n",
    "    f1score = f1_score(y_test[:m], y_predict, average='micro')\n",
    "#     print(classification_report(y_test[:m], y_predict, digits=3))\n",
    "    \n",
    "    return f1score"
   ]
  },
  {
   "cell_type": "code",
   "execution_count": 46,
   "metadata": {
    "ExecuteTime": {
     "end_time": "2020-04-13T11:33:12.209079Z",
     "start_time": "2020-04-13T11:33:12.201474Z"
    }
   },
   "outputs": [],
   "source": [
    "def new_sim_sep(m, n, eps, P, corp2bert_train, corp2bert_test, wc_d, wc_t, sigm):\n",
    "    \n",
    "    sims = np.zeros(m*n)\n",
    "    \n",
    "    for i in tqdm(range(m)):  # compare one test doc with all training docs to find the closest\n",
    "        for j in range(n):\n",
    "            M = calc_dis(corp2bert_test[i], corp2bert_train[j])\n",
    "            sims[(i*n)+j] = sim_new(M, wc_d[j], wc_t[i], eps, P, sigm)\n",
    "            \n",
    "    return sims\n",
    "\n",
    "\n",
    "def knn_sep(m, n, k, arr, y_train, y_test):\n",
    "    \n",
    "    y_predict = []\n",
    "    \n",
    "    for i in range(m):  # compare one test doc with all training docs to find the closest\n",
    "        y_class = knn(arr[i*n:(i+1)*n], k, y_train)\n",
    "        y_predict.append(y_class)\n",
    "        \n",
    "    f1score = f1_score(y_test[:m], y_predict, average='micro')       \n",
    "#     print(classification_report(y_test[:m], y_predict, digits=3))\n",
    "    \n",
    "    return f1score"
   ]
  },
  {
   "cell_type": "code",
   "execution_count": 24,
   "metadata": {
    "ExecuteTime": {
     "end_time": "2020-04-13T10:04:32.874476Z",
     "start_time": "2020-04-13T10:04:32.866329Z"
    }
   },
   "outputs": [],
   "source": [
    "# Get number of words in each sentence\n",
    "word_num_train = [[len(w) for w in corp] for corp in X_train]\n",
    "word_num_test = [[len(w) for w in corp] for corp in X_test]"
   ]
  },
  {
   "cell_type": "code",
   "execution_count": 25,
   "metadata": {
    "ExecuteTime": {
     "end_time": "2020-04-13T10:04:46.289300Z",
     "start_time": "2020-04-13T10:04:46.280598Z"
    }
   },
   "outputs": [],
   "source": [
    "# Add zero at the beginning, for calculations\n",
    "word_num_train_0 = [ [0]+corp for corp in word_num_train]\n",
    "word_num_test_0 = [ [0]+corp for corp in word_num_test]"
   ]
  },
  {
   "cell_type": "code",
   "execution_count": 26,
   "metadata": {
    "ExecuteTime": {
     "end_time": "2020-04-13T10:04:53.144157Z",
     "start_time": "2020-04-13T10:04:53.099794Z"
    }
   },
   "outputs": [],
   "source": [
    "# All words from all sentences to one list keeping the order\n",
    "bert_words_tr = [w1 for subl1 in X_train[0] for w1 in subl1]\n",
    "bert_words_ts = [w2 for subl2 in X_test[0] for w2 in subl2]"
   ]
  },
  {
   "cell_type": "code",
   "execution_count": 27,
   "metadata": {
    "ExecuteTime": {
     "end_time": "2020-04-13T10:04:59.720840Z",
     "start_time": "2020-04-13T10:04:59.716930Z"
    }
   },
   "outputs": [],
   "source": [
    "# All vectors from all seentences to one list keeping the order\n",
    "word_vectors_tr = [v1 for subv1 in bert_tr for v1 in subv1]\n",
    "word_vectors_ts = [v2 for subv2 in bert_ts for v2 in subv2]"
   ]
  },
  {
   "cell_type": "code",
   "execution_count": 28,
   "metadata": {
    "ExecuteTime": {
     "end_time": "2020-04-13T10:05:07.653367Z",
     "start_time": "2020-04-13T10:05:06.969681Z"
    }
   },
   "outputs": [],
   "source": [
    "bert_trB = [np.array(x) for x in bert_trB]\n",
    "bert_tsB = [np.array(x) for x in bert_tsB]"
   ]
  },
  {
   "cell_type": "markdown",
   "metadata": {},
   "source": [
    "### p"
   ]
  },
  {
   "cell_type": "code",
   "execution_count": 38,
   "metadata": {
    "ExecuteTime": {
     "end_time": "2020-04-13T11:09:49.226112Z",
     "start_time": "2020-04-13T11:09:49.222246Z"
    }
   },
   "outputs": [],
   "source": [
    "m = 200\n",
    "n = 400\n",
    "k = 10\n",
    "pp = np.arange(-10,2)*0.1\n",
    "eps = 0.84\n",
    "listP = []\n",
    "\n",
    "for P in pp:\n",
    "    listP.append(result_new(m, n, k, eps, P, bert_trB, bert_tsB, wtrain_idfB, wtest_idfB, y_train[0], y_test[0], 1))"
   ]
  },
  {
   "cell_type": "code",
   "execution_count": 39,
   "metadata": {
    "ExecuteTime": {
     "end_time": "2020-04-13T11:10:13.123379Z",
     "start_time": "2020-04-13T11:10:12.953445Z"
    }
   },
   "outputs": [
    {
     "data": {
      "image/png": "[encoded data removed]",
      "text/plain": [
       "<Figure size 432x288 with 1 Axes>"
      ]
     },
     "metadata": {
      "needs_background": "light"
     },
     "output_type": "display_data"
    }
   ],
   "source": [
    "plt.plot(pp,listP)\n",
    "plt.grid()"
   ]
  },
  {
   "cell_type": "markdown",
   "metadata": {},
   "source": [
    "### Epsilon"
   ]
  },
  {
   "cell_type": "code",
   "execution_count": 62,
   "metadata": {
    "ExecuteTime": {
     "end_time": "2020-04-16T13:28:13.118207Z",
     "start_time": "2020-04-16T13:28:13.111343Z"
    }
   },
   "outputs": [],
   "source": [
    "m = 200\n",
    "n = 400\n",
    "k = 10\n",
    "P = 0\n",
    "Eps = np.arange(50,99,2)*0.01\n",
    "listE = []\n",
    "\n",
    "for eps in Eps:\n",
    "    listE.append(result_new(m, n, k, eps, P, bert_trB, bert_tsB, wtrain_idfB, wtest_idfB, y_train[0], y_test[0], 1))"
   ]
  },
  {
   "cell_type": "code",
   "execution_count": 63,
   "metadata": {
    "ExecuteTime": {
     "end_time": "2020-04-16T13:29:08.707598Z",
     "start_time": "2020-04-16T13:29:08.492347Z"
    }
   },
   "outputs": [
    {
     "data": {
      "image/png": "[encoded data removed]",
      "text/plain": [
       "<Figure size 432x288 with 1 Axes>"
      ]
     },
     "metadata": {
      "needs_background": "light"
     },
     "output_type": "display_data"
    }
   ],
   "source": [
    "plt.plot(Eps, listE)\n",
    "plt.grid()"
   ]
  },
  {
   "cell_type": "markdown",
   "metadata": {},
   "source": [
    "### sigma"
   ]
  },
  {
   "cell_type": "code",
   "execution_count": 65,
   "metadata": {
    "ExecuteTime": {
     "end_time": "2020-04-16T13:49:09.725555Z",
     "start_time": "2020-04-16T13:49:09.721630Z"
    }
   },
   "outputs": [],
   "source": [
    "m = 200\n",
    "n = 400\n",
    "k = 10\n",
    "P = 0\n",
    "sigma = np.arange(2,12)*0.1\n",
    "eps = 0.84\n",
    "listSig = []\n",
    "\n",
    "for sig in sigma:\n",
    "    listSig.append(result_new(m, n, k, eps, P, bert_trB, bert_tsB, wtrain_idfB, wtest_idfB, y_train[0], y_test[0], sig))"
   ]
  },
  {
   "cell_type": "code",
   "execution_count": 66,
   "metadata": {
    "ExecuteTime": {
     "end_time": "2020-04-16T13:49:18.144441Z",
     "start_time": "2020-04-16T13:49:17.954496Z"
    }
   },
   "outputs": [
    {
     "data": {
      "image/png": "[encoded data removed]",
      "text/plain": [
       "<Figure size 432x288 with 1 Axes>"
      ]
     },
     "metadata": {
      "needs_background": "light"
     },
     "output_type": "display_data"
    }
   ],
   "source": [
    "plt.plot(sigma, listSig)\n",
    "plt.grid()"
   ]
  },
  {
   "cell_type": "markdown",
   "metadata": {},
   "source": [
    "### Total"
   ]
  },
  {
   "cell_type": "code",
   "execution_count": 67,
   "metadata": {
    "ExecuteTime": {
     "end_time": "2020-04-16T15:02:27.007324Z",
     "start_time": "2020-04-16T13:50:15.255786Z"
    }
   },
   "outputs": [
    {
     "data": {
      "application/vnd.jupyter.widget-view+json": {
       "model_id": "cfc4c8df5d1b4484874a6faef2bcce62",
       "version_major": 2,
       "version_minor": 0
      },
      "text/plain": [
       "HBox(children=(IntProgress(value=0, max=1311), HTML(value='')))"
      ]
     },
     "metadata": {},
     "output_type": "display_data"
    },
    {
     "name": "stdout",
     "output_type": "stream",
     "text": [
      "\n"
     ]
    }
   ],
   "source": [
    "m = len(bert_tsB)\n",
    "n = len(bert_trB)\n",
    "P = 0\n",
    "eps = 0.84\n",
    "sigm = 0.99\n",
    "\n",
    "arr_total_new = new_sim_sep(m, n, eps, P, bert_trB, bert_tsB, wtrain_idfB, wtest_idfB, sigm)"
   ]
  },
  {
   "cell_type": "code",
   "execution_count": 68,
   "metadata": {
    "ExecuteTime": {
     "end_time": "2020-04-16T15:36:58.340820Z",
     "start_time": "2020-04-16T15:36:45.143560Z"
    }
   },
   "outputs": [],
   "source": [
    "m = len(bert_tsB)\n",
    "n = len(bert_trB)\n",
    "K = np.arange(2,50)\n",
    "listK_total = []\n",
    "\n",
    "for k in K:\n",
    "    listK_total.append(knn_sep(m, n, k, arr_total_new, y_train[0], y_test[0]))"
   ]
  },
  {
   "cell_type": "code",
   "execution_count": 70,
   "metadata": {
    "ExecuteTime": {
     "end_time": "2020-04-16T15:37:06.169267Z",
     "start_time": "2020-04-16T15:37:06.159589Z"
    }
   },
   "outputs": [
    {
     "data": {
      "text/plain": [
       "0.5728451563691839"
      ]
     },
     "execution_count": 70,
     "metadata": {},
     "output_type": "execute_result"
    }
   ],
   "source": [
    "np.max(listK_total)"
   ]
  },
  {
   "cell_type": "code",
   "execution_count": 69,
   "metadata": {
    "ExecuteTime": {
     "end_time": "2020-04-16T15:37:01.957139Z",
     "start_time": "2020-04-16T15:37:01.769691Z"
    }
   },
   "outputs": [
    {
     "data": {
      "image/png": "[encoded data removed]",
      "text/plain": [
       "<Figure size 432x288 with 1 Axes>"
      ]
     },
     "metadata": {
      "needs_background": "light"
     },
     "output_type": "display_data"
    }
   ],
   "source": [
    "plt.plot(K, listK_total)\n",
    "plt.grid()"
   ]
  },
  {
   "cell_type": "markdown",
   "metadata": {},
   "source": [
    "# Bert + cos"
   ]
  },
  {
   "cell_type": "code",
   "execution_count": 51,
   "metadata": {
    "ExecuteTime": {
     "end_time": "2020-04-13T12:46:00.808727Z",
     "start_time": "2020-04-13T12:46:00.794704Z"
    }
   },
   "outputs": [],
   "source": [
    "# @nb.njit\n",
    "def bert_similarity(part1, part2):\n",
    "    vec1 = sum(part1) / len(part1)\n",
    "    vec2 = sum(part2) / len(part2)\n",
    "    sim = 1 - cosine(vec1, vec2)\n",
    "\n",
    "    return sim \n",
    "\n",
    "\n",
    "def result_bench(m, n, k, corp2bert_train, corp2bert_test, y_train, y_test):\n",
    "\n",
    "    y_predict = []\n",
    "    sims = np.zeros(m*n)\n",
    "    \n",
    "    for i in tqdm(range(m)):  # compare one test doc with all training docs to find the closest\n",
    "        for j in range(n):\n",
    "            sims[(i*n)+j] = bert_similarity(corp2bert_train[j], corp2bert_test[i])\n",
    "        y_class = knn(sims[i*n:(i+1)*n], k, y_train)\n",
    "        y_predict.append(y_class)\n",
    "\n",
    "    f1score = f1_score(y_test[:m], y_predict, average='micro')       \n",
    "#     print(classification_report(y_test[:m], y_predict))\n",
    "    \n",
    "    return f1score"
   ]
  },
  {
   "cell_type": "code",
   "execution_count": 52,
   "metadata": {
    "ExecuteTime": {
     "end_time": "2020-04-13T12:46:11.673200Z",
     "start_time": "2020-04-13T12:46:11.664428Z"
    }
   },
   "outputs": [],
   "source": [
    "def bench_sim_sep(m, n, corp2bert_train, corp2bert_test):\n",
    "    \n",
    "    sims = np.zeros(m*n)\n",
    "    \n",
    "    for i in tqdm(range(m)):  # compare one test doc with all training docs to find the closest\n",
    "        for j in range(n):\n",
    "            sims[(i*n)+j] = bert_similarity(corp2bert_train[j], corp2bert_test[i])\n",
    "            \n",
    "    return sims\n",
    "\n",
    "\n",
    "def knn_sep(m, n, k, arr, y_train, y_test):\n",
    "    \n",
    "    y_predict = []\n",
    "    \n",
    "    for i in range(m):  # compare one test doc with all training docs to find the closest\n",
    "        y_class = knn(arr[i*n:(i+1)*n], k, y_train)\n",
    "        y_predict.append(y_class)\n",
    "        \n",
    "    f1score = f1_score(y_test[:m], y_predict, average='micro')       \n",
    "#     print(classification_report(y_test[:m], y_predict, digits=3))\n",
    "    \n",
    "    return f1score"
   ]
  },
  {
   "cell_type": "markdown",
   "metadata": {},
   "source": [
    "# Total"
   ]
  },
  {
   "cell_type": "code",
   "execution_count": 53,
   "metadata": {
    "ExecuteTime": {
     "end_time": "2020-04-13T12:59:05.817099Z",
     "start_time": "2020-04-13T12:46:31.960145Z"
    }
   },
   "outputs": [
    {
     "data": {
      "application/vnd.jupyter.widget-view+json": {
       "model_id": "9b31a2f8952d48b59c8b2c0f734f90c3",
       "version_major": 2,
       "version_minor": 0
      },
      "text/plain": [
       "HBox(children=(IntProgress(value=0, max=1311), HTML(value='')))"
      ]
     },
     "metadata": {},
     "output_type": "display_data"
    },
    {
     "name": "stdout",
     "output_type": "stream",
     "text": [
      "\n"
     ]
    }
   ],
   "source": [
    "m = len(bert_tsB)\n",
    "n = len(bert_trB)\n",
    "\n",
    "arr_bench = bench_sim_sep(m, n, bert_trB, bert_tsB)"
   ]
  },
  {
   "cell_type": "code",
   "execution_count": 54,
   "metadata": {
    "ExecuteTime": {
     "end_time": "2020-04-13T12:59:22.392439Z",
     "start_time": "2020-04-13T12:59:05.820105Z"
    }
   },
   "outputs": [],
   "source": [
    "m = len(bert_tsB)\n",
    "n = len(bert_trB)\n",
    "K = np.arange(2,50)\n",
    "res_bench = []\n",
    "\n",
    "for k in K:\n",
    "    res_bench.append(knn_sep(m, n, k, arr_bench, y_train[0], y_test[0]))"
   ]
  },
  {
   "cell_type": "code",
   "execution_count": 55,
   "metadata": {
    "ExecuteTime": {
     "end_time": "2020-04-13T12:59:22.566277Z",
     "start_time": "2020-04-13T12:59:22.395321Z"
    }
   },
   "outputs": [
    {
     "data": {
      "image/png": "[encoded data removed]",
      "text/plain": [
       "<Figure size 432x288 with 1 Axes>"
      ]
     },
     "metadata": {
      "needs_background": "light"
     },
     "output_type": "display_data"
    }
   ],
   "source": [
    "plt.plot(K, res_bench)\n",
    "plt.grid()"
   ]
  },
  {
   "cell_type": "code",
   "execution_count": 56,
   "metadata": {
    "ExecuteTime": {
     "end_time": "2020-04-13T12:59:59.044924Z",
     "start_time": "2020-04-13T12:59:59.036547Z"
    }
   },
   "outputs": [
    {
     "data": {
      "text/plain": [
       "0.4691075514874142"
      ]
     },
     "execution_count": 56,
     "metadata": {},
     "output_type": "execute_result"
    }
   ],
   "source": [
    "np.max(res_bench)"
   ]
  },
  {
   "cell_type": "code",
   "execution_count": null,
   "metadata": {},
   "outputs": [],
   "source": []
  }
 ],
 "metadata": {
  "kernelspec": {
   "display_name": "Python 3",
   "language": "python",
   "name": "python3"
  },
  "language_info": {
   "codemirror_mode": {
    "name": "ipython",
    "version": 3
   },
   "file_extension": ".py",
   "mimetype": "text/x-python",
   "name": "python",
   "nbconvert_exporter": "python",
   "pygments_lexer": "ipython3",
   "version": "3.7.3"
  },
  "toc": {
   "base_numbering": 1,
   "nav_menu": {},
   "number_sections": true,
   "sideBar": true,
   "skip_h1_title": false,
   "title_cell": "Table of Contents",
   "title_sidebar": "Contents",
   "toc_cell": false,
   "toc_position": {},
   "toc_section_display": true,
   "toc_window_display": false
  }
 },
 "nbformat": 4,
 "nbformat_minor": 2
}
